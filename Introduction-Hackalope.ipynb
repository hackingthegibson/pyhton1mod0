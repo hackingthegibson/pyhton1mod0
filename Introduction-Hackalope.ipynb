{
 "cells": [
  {
   "cell_type": "markdown",
   "id": "897e2b60",
   "metadata": {},
   "source": [
    "# Name : Pete Vargo\n",
    "## Background : Blue\n",
    "## Interest : 5%"
   ]
  },
  {
   "cell_type": "code",
   "execution_count": null,
   "id": "f7493089",
   "metadata": {},
   "outputs": [],
   "source": [
    "from pprint import pprint\n",
    "pp = pprint.PrettyPrinter(indent=2)\n",
    "show = pp.pprint"
   ]
  }
 ],
 "metadata": {
  "kernelspec": {
   "display_name": "Python 3 (ipykernel)",
   "language": "python",
   "name": "python3"
  },
  "language_info": {
   "codemirror_mode": {
    "name": "ipython",
    "version": 3
   },
   "file_extension": ".py",
   "mimetype": "text/x-python",
   "name": "python",
   "nbconvert_exporter": "python",
   "pygments_lexer": "ipython3",
   "version": "3.10.9"
  }
 },
 "nbformat": 4,
 "nbformat_minor": 5
}
